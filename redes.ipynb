{
  "cells": [
    {
      "cell_type": "markdown",
      "id": "17d6878a",
      "metadata": {
        "id": "17d6878a"
      },
      "source": [
        "# Implementación de Red Neuronal para Predecir Rendimiento Académico en Estudiantes\n",
        "## Introducción\n",
        "Este notebook implementa una red neuronal según el roadmap establecido, usando datos del Instituto Politécnico de Portalegre (IPP) en Portugal. El objetivo es predecir el rendimiento académico de los estudiantes al inicio de sus estudios, utilizando únicamente información disponible al momento de su matrícula.\n",
        "\n",
        "El dataset ha sido previamente preprocesado, balanceado y está listo para su uso directo.\n",
        "\n",
        "## Librerías Necesarias y Lectura del Dataset\n",
        "Cargamos las librerías necesarias y el archivo CSV ya preparado (data_resampled.csv)."
      ]
    },
    {
      "cell_type": "code",
      "execution_count": 2,
      "id": "f37ce1b0",
      "metadata": {
        "colab": {
          "base_uri": "https://localhost:8080/",
          "height": 342
        },
        "id": "f37ce1b0",
        "outputId": "a193e0cf-01db-45a4-cb9b-966f528981b8"
      },
      "outputs": [
        {
          "name": "stdout",
          "output_type": "stream",
          "text": [
            "Forma del dataset: (6700, 94)\n"
          ]
        },
        {
          "data": {
            "application/vnd.microsoft.datawrangler.viewer.v0+json": {
              "columns": [
                {
                  "name": "index",
                  "rawType": "int64",
                  "type": "integer"
                },
                {
                  "name": "Application order",
                  "rawType": "int64",
                  "type": "integer"
                },
                {
                  "name": "Daytime/evening attendance",
                  "rawType": "int64",
                  "type": "integer"
                },
                {
                  "name": "Previous qualification (grade)",
                  "rawType": "float64",
                  "type": "float"
                },
                {
                  "name": "Admission grade",
                  "rawType": "float64",
                  "type": "float"
                },
                {
                  "name": "Displaced",
                  "rawType": "int64",
                  "type": "integer"
                },
                {
                  "name": "Debtor",
                  "rawType": "int64",
                  "type": "integer"
                },
                {
                  "name": "Tuition fees up to date",
                  "rawType": "int64",
                  "type": "integer"
                },
                {
                  "name": "Gender",
                  "rawType": "int64",
                  "type": "integer"
                },
                {
                  "name": "Scholarship holder",
                  "rawType": "int64",
                  "type": "integer"
                },
                {
                  "name": "Age at enrollment",
                  "rawType": "int64",
                  "type": "integer"
                },
                {
                  "name": "Curricular units 1st sem (credited)",
                  "rawType": "int64",
                  "type": "integer"
                },
                {
                  "name": "Curricular units 1st sem (enrolled)",
                  "rawType": "int64",
                  "type": "integer"
                },
                {
                  "name": "Curricular units 1st sem (evaluations)",
                  "rawType": "int64",
                  "type": "integer"
                },
                {
                  "name": "Curricular units 1st sem (approved)",
                  "rawType": "int64",
                  "type": "integer"
                },
                {
                  "name": "Curricular units 1st sem (grade)",
                  "rawType": "float64",
                  "type": "float"
                },
                {
                  "name": "Curricular units 1st sem (without evaluations)",
                  "rawType": "int64",
                  "type": "integer"
                },
                {
                  "name": "Curricular units 2nd sem (credited)",
                  "rawType": "int64",
                  "type": "integer"
                },
                {
                  "name": "Curricular units 2nd sem (enrolled)",
                  "rawType": "int64",
                  "type": "integer"
                },
                {
                  "name": "Curricular units 2nd sem (evaluations)",
                  "rawType": "int64",
                  "type": "integer"
                },
                {
                  "name": "Curricular units 2nd sem (approved)",
                  "rawType": "int64",
                  "type": "integer"
                },
                {
                  "name": "Curricular units 2nd sem (grade)",
                  "rawType": "float64",
                  "type": "float"
                },
                {
                  "name": "Curricular units 2nd sem (without evaluations)",
                  "rawType": "int64",
                  "type": "integer"
                },
                {
                  "name": "Unemployment rate",
                  "rawType": "float64",
                  "type": "float"
                },
                {
                  "name": "Inflation rate",
                  "rawType": "float64",
                  "type": "float"
                },
                {
                  "name": "GDP",
                  "rawType": "float64",
                  "type": "float"
                },
                {
                  "name": "Other",
                  "rawType": "float64",
                  "type": "float"
                },
                {
                  "name": "Single",
                  "rawType": "float64",
                  "type": "float"
                },
                {
                  "name": "Married",
                  "rawType": "float64",
                  "type": "float"
                },
                {
                  "name": "Divorced",
                  "rawType": "float64",
                  "type": "float"
                },
                {
                  "name": "Father: Other",
                  "rawType": "float64",
                  "type": "float"
                },
                {
                  "name": "Father: Student",
                  "rawType": "float64",
                  "type": "float"
                },
                {
                  "name": "Father: Executives/Managers",
                  "rawType": "float64",
                  "type": "float"
                },
                {
                  "name": "Father: Scientific Specialists",
                  "rawType": "float64",
                  "type": "float"
                },
                {
                  "name": "Father: Technicians",
                  "rawType": "float64",
                  "type": "float"
                },
                {
                  "name": "Father: Admin Staff",
                  "rawType": "float64",
                  "type": "float"
                },
                {
                  "name": "Father: Services/Sellers",
                  "rawType": "float64",
                  "type": "float"
                },
                {
                  "name": "Father: Agriculture/Fisheries",
                  "rawType": "float64",
                  "type": "float"
                },
                {
                  "name": "Father: Skilled Industry",
                  "rawType": "float64",
                  "type": "float"
                },
                {
                  "name": "Father: Machine Operators",
                  "rawType": "float64",
                  "type": "float"
                },
                {
                  "name": "Father: Unskilled Workers",
                  "rawType": "float64",
                  "type": "float"
                },
                {
                  "name": "Father: Armed Forces",
                  "rawType": "float64",
                  "type": "float"
                },
                {
                  "name": "Mother: Other",
                  "rawType": "float64",
                  "type": "float"
                },
                {
                  "name": "Mother: Scientific Specialists",
                  "rawType": "float64",
                  "type": "float"
                },
                {
                  "name": "Mother: Technicians",
                  "rawType": "float64",
                  "type": "float"
                },
                {
                  "name": "Mother: Admin Staff",
                  "rawType": "float64",
                  "type": "float"
                },
                {
                  "name": "Mother: Services/Sellers",
                  "rawType": "float64",
                  "type": "float"
                },
                {
                  "name": "Mother: Skilled Industry",
                  "rawType": "float64",
                  "type": "float"
                },
                {
                  "name": "Mother: Unskilled Workers",
                  "rawType": "float64",
                  "type": "float"
                },
                {
                  "name": "Application mode: Other",
                  "rawType": "float64",
                  "type": "float"
                },
                {
                  "name": "Application mode: 1",
                  "rawType": "float64",
                  "type": "float"
                },
                {
                  "name": "Application mode: 7",
                  "rawType": "float64",
                  "type": "float"
                },
                {
                  "name": "Application mode: 17",
                  "rawType": "float64",
                  "type": "float"
                },
                {
                  "name": "Application mode: 18",
                  "rawType": "float64",
                  "type": "float"
                },
                {
                  "name": "Application mode: 39",
                  "rawType": "float64",
                  "type": "float"
                },
                {
                  "name": "Application mode: 42",
                  "rawType": "float64",
                  "type": "float"
                },
                {
                  "name": "Application mode: 43",
                  "rawType": "float64",
                  "type": "float"
                },
                {
                  "name": "Application mode: 44",
                  "rawType": "float64",
                  "type": "float"
                },
                {
                  "name": "Application mode: 51",
                  "rawType": "float64",
                  "type": "float"
                },
                {
                  "name": "Is_foreign",
                  "rawType": "int64",
                  "type": "integer"
                },
                {
                  "name": "Course: 33",
                  "rawType": "float64",
                  "type": "float"
                },
                {
                  "name": "Course: 171",
                  "rawType": "float64",
                  "type": "float"
                },
                {
                  "name": "Course: 8014",
                  "rawType": "float64",
                  "type": "float"
                },
                {
                  "name": "Course: 9003",
                  "rawType": "float64",
                  "type": "float"
                },
                {
                  "name": "Course: 9070",
                  "rawType": "float64",
                  "type": "float"
                },
                {
                  "name": "Course: 9085",
                  "rawType": "float64",
                  "type": "float"
                },
                {
                  "name": "Course: 9119",
                  "rawType": "float64",
                  "type": "float"
                },
                {
                  "name": "Course: 9130",
                  "rawType": "float64",
                  "type": "float"
                },
                {
                  "name": "Course: 9147",
                  "rawType": "float64",
                  "type": "float"
                },
                {
                  "name": "Course: 9238",
                  "rawType": "float64",
                  "type": "float"
                },
                {
                  "name": "Course: 9254",
                  "rawType": "float64",
                  "type": "float"
                },
                {
                  "name": "Course: 9500",
                  "rawType": "float64",
                  "type": "float"
                },
                {
                  "name": "Course: 9556",
                  "rawType": "float64",
                  "type": "float"
                },
                {
                  "name": "Course: 9670",
                  "rawType": "float64",
                  "type": "float"
                },
                {
                  "name": "Course: 9773 ",
                  "rawType": "float64",
                  "type": "float"
                },
                {
                  "name": "Course: 9853",
                  "rawType": "float64",
                  "type": "float"
                },
                {
                  "name": "Course: 9991",
                  "rawType": "float64",
                  "type": "float"
                },
                {
                  "name": "Previous qualification: Others",
                  "rawType": "float64",
                  "type": "float"
                },
                {
                  "name": "Previous qualification: Secondary education",
                  "rawType": "float64",
                  "type": "float"
                },
                {
                  "name": "Previous qualification: Higher education",
                  "rawType": "float64",
                  "type": "float"
                },
                {
                  "name": "Previous qualification: Basic education 3rd cycle",
                  "rawType": "float64",
                  "type": "float"
                },
                {
                  "name": "Previous qualification: Technological specialization course",
                  "rawType": "float64",
                  "type": "float"
                },
                {
                  "name": "Mother's qualification: Others",
                  "rawType": "float64",
                  "type": "float"
                },
                {
                  "name": "Mother's qualification: Secondary education",
                  "rawType": "float64",
                  "type": "float"
                },
                {
                  "name": "Mother's qualification: Higher education",
                  "rawType": "float64",
                  "type": "float"
                },
                {
                  "name": "Mother's qualification: Basic education 3rd cycle",
                  "rawType": "float64",
                  "type": "float"
                },
                {
                  "name": "Mother's qualification: Basic education 1st cycle ",
                  "rawType": "float64",
                  "type": "float"
                },
                {
                  "name": "Mother's qualification: Basic Education 2nd Cycle",
                  "rawType": "float64",
                  "type": "float"
                },
                {
                  "name": "Father's qualification: Others",
                  "rawType": "float64",
                  "type": "float"
                },
                {
                  "name": "Father's qualification: Secondary education",
                  "rawType": "float64",
                  "type": "float"
                },
                {
                  "name": "Father's qualification: Higher education",
                  "rawType": "float64",
                  "type": "float"
                },
                {
                  "name": "Father's qualification: Basic education 3rd cycle",
                  "rawType": "float64",
                  "type": "float"
                },
                {
                  "name": "Father's qualification: Basic education 1st cycle ",
                  "rawType": "float64",
                  "type": "float"
                },
                {
                  "name": "Father's qualification: Basic Education 2nd Cycle",
                  "rawType": "float64",
                  "type": "float"
                },
                {
                  "name": "Target",
                  "rawType": "int64",
                  "type": "integer"
                }
              ],
              "conversionMethod": "pd.DataFrame",
              "ref": "6eba2483-c10a-4eca-a777-04ce91005cf9",
              "rows": [
                [
                  "0",
                  "5",
                  "1",
                  "122.0",
                  "127.3",
                  "1",
                  "0",
                  "1",
                  "1",
                  "0",
                  "20",
                  "0",
                  "0",
                  "0",
                  "0",
                  "0.0",
                  "0",
                  "0",
                  "0",
                  "0",
                  "0",
                  "0.0",
                  "0",
                  "10.8",
                  "1.4",
                  "1.74",
                  "0.0",
                  "1.0",
                  "0.0",
                  "0.0",
                  "0.0",
                  "0.0",
                  "0.0",
                  "0.0",
                  "0.0",
                  "0.0",
                  "0.0",
                  "0.0",
                  "0.0",
                  "0.0",
                  "1.0",
                  "0.0",
                  "0.0",
                  "0.0",
                  "0.0",
                  "0.0",
                  "1.0",
                  "0.0",
                  "0.0",
                  "0.0",
                  "0.0",
                  "0.0",
                  "1.0",
                  "0.0",
                  "0.0",
                  "0.0",
                  "0.0",
                  "0.0",
                  "0.0",
                  "0",
                  "0.0",
                  "1.0",
                  "0.0",
                  "0.0",
                  "0.0",
                  "0.0",
                  "0.0",
                  "0.0",
                  "0.0",
                  "0.0",
                  "0.0",
                  "0.0",
                  "0.0",
                  "0.0",
                  "0.0",
                  "0.0",
                  "0.0",
                  "0.0",
                  "1.0",
                  "0.0",
                  "0.0",
                  "0.0",
                  "0.0",
                  "0.0",
                  "0.0",
                  "1.0",
                  "0.0",
                  "0.0",
                  "1.0",
                  "0.0",
                  "0.0",
                  "0.0",
                  "0.0",
                  "0.0",
                  "0"
                ],
                [
                  "1",
                  "1",
                  "1",
                  "160.0",
                  "142.5",
                  "1",
                  "0",
                  "0",
                  "1",
                  "0",
                  "19",
                  "0",
                  "6",
                  "6",
                  "6",
                  "14.0",
                  "0",
                  "0",
                  "6",
                  "6",
                  "6",
                  "13.666666666666666",
                  "0",
                  "13.9",
                  "-0.3",
                  "0.79",
                  "0.0",
                  "1.0",
                  "0.0",
                  "0.0",
                  "0.0",
                  "0.0",
                  "0.0",
                  "0.0",
                  "1.0",
                  "0.0",
                  "0.0",
                  "0.0",
                  "0.0",
                  "0.0",
                  "0.0",
                  "0.0",
                  "0.0",
                  "0.0",
                  "1.0",
                  "0.0",
                  "0.0",
                  "0.0",
                  "0.0",
                  "1.0",
                  "0.0",
                  "0.0",
                  "0.0",
                  "0.0",
                  "0.0",
                  "0.0",
                  "0.0",
                  "0.0",
                  "0.0",
                  "0",
                  "0.0",
                  "0.0",
                  "0.0",
                  "0.0",
                  "0.0",
                  "0.0",
                  "0.0",
                  "0.0",
                  "0.0",
                  "0.0",
                  "1.0",
                  "0.0",
                  "0.0",
                  "0.0",
                  "0.0",
                  "0.0",
                  "0.0",
                  "0.0",
                  "1.0",
                  "0.0",
                  "0.0",
                  "0.0",
                  "0.0",
                  "1.0",
                  "0.0",
                  "0.0",
                  "0.0",
                  "0.0",
                  "0.0",
                  "0.0",
                  "1.0",
                  "0.0",
                  "0.0",
                  "0.0",
                  "2"
                ],
                [
                  "2",
                  "5",
                  "1",
                  "122.0",
                  "124.8",
                  "1",
                  "0",
                  "0",
                  "1",
                  "0",
                  "19",
                  "0",
                  "6",
                  "0",
                  "0",
                  "0.0",
                  "0",
                  "0",
                  "6",
                  "0",
                  "0",
                  "0.0",
                  "0",
                  "10.8",
                  "1.4",
                  "1.74",
                  "0.0",
                  "1.0",
                  "0.0",
                  "0.0",
                  "0.0",
                  "0.0",
                  "0.0",
                  "0.0",
                  "0.0",
                  "0.0",
                  "0.0",
                  "0.0",
                  "0.0",
                  "0.0",
                  "1.0",
                  "0.0",
                  "0.0",
                  "0.0",
                  "0.0",
                  "0.0",
                  "0.0",
                  "0.0",
                  "1.0",
                  "0.0",
                  "1.0",
                  "0.0",
                  "0.0",
                  "0.0",
                  "0.0",
                  "0.0",
                  "0.0",
                  "0.0",
                  "0.0",
                  "0",
                  "0.0",
                  "0.0",
                  "0.0",
                  "0.0",
                  "1.0",
                  "0.0",
                  "0.0",
                  "0.0",
                  "0.0",
                  "0.0",
                  "0.0",
                  "0.0",
                  "0.0",
                  "0.0",
                  "0.0",
                  "0.0",
                  "0.0",
                  "0.0",
                  "1.0",
                  "0.0",
                  "0.0",
                  "0.0",
                  "0.0",
                  "0.0",
                  "0.0",
                  "0.0",
                  "1.0",
                  "0.0",
                  "0.0",
                  "0.0",
                  "0.0",
                  "0.0",
                  "1.0",
                  "0.0",
                  "0"
                ],
                [
                  "3",
                  "2",
                  "1",
                  "122.0",
                  "119.6",
                  "1",
                  "0",
                  "1",
                  "0",
                  "0",
                  "20",
                  "0",
                  "6",
                  "8",
                  "6",
                  "13.428571428571429",
                  "0",
                  "0",
                  "6",
                  "10",
                  "5",
                  "12.4",
                  "0",
                  "9.4",
                  "-0.8",
                  "-3.12",
                  "0.0",
                  "1.0",
                  "0.0",
                  "0.0",
                  "0.0",
                  "0.0",
                  "0.0",
                  "0.0",
                  "1.0",
                  "0.0",
                  "0.0",
                  "0.0",
                  "0.0",
                  "0.0",
                  "0.0",
                  "0.0",
                  "0.0",
                  "0.0",
                  "0.0",
                  "0.0",
                  "1.0",
                  "0.0",
                  "0.0",
                  "0.0",
                  "0.0",
                  "0.0",
                  "1.0",
                  "0.0",
                  "0.0",
                  "0.0",
                  "0.0",
                  "0.0",
                  "0.0",
                  "0",
                  "0.0",
                  "0.0",
                  "0.0",
                  "0.0",
                  "0.0",
                  "0.0",
                  "0.0",
                  "0.0",
                  "0.0",
                  "0.0",
                  "0.0",
                  "0.0",
                  "0.0",
                  "0.0",
                  "1.0",
                  "0.0",
                  "0.0",
                  "0.0",
                  "1.0",
                  "0.0",
                  "0.0",
                  "0.0",
                  "0.0",
                  "0.0",
                  "0.0",
                  "0.0",
                  "0.0",
                  "1.0",
                  "0.0",
                  "0.0",
                  "0.0",
                  "0.0",
                  "1.0",
                  "0.0",
                  "2"
                ],
                [
                  "4",
                  "1",
                  "0",
                  "100.0",
                  "141.5",
                  "0",
                  "0",
                  "1",
                  "0",
                  "0",
                  "45",
                  "0",
                  "6",
                  "9",
                  "5",
                  "12.333333333333334",
                  "0",
                  "0",
                  "6",
                  "6",
                  "6",
                  "13.0",
                  "0",
                  "13.9",
                  "-0.3",
                  "0.79",
                  "0.0",
                  "0.0",
                  "1.0",
                  "0.0",
                  "0.0",
                  "0.0",
                  "0.0",
                  "0.0",
                  "0.0",
                  "0.0",
                  "0.0",
                  "0.0",
                  "0.0",
                  "0.0",
                  "1.0",
                  "0.0",
                  "0.0",
                  "0.0",
                  "0.0",
                  "0.0",
                  "0.0",
                  "0.0",
                  "1.0",
                  "0.0",
                  "0.0",
                  "0.0",
                  "0.0",
                  "0.0",
                  "1.0",
                  "0.0",
                  "0.0",
                  "0.0",
                  "0.0",
                  "0",
                  "0.0",
                  "0.0",
                  "1.0",
                  "0.0",
                  "0.0",
                  "0.0",
                  "0.0",
                  "0.0",
                  "0.0",
                  "0.0",
                  "0.0",
                  "0.0",
                  "0.0",
                  "0.0",
                  "0.0",
                  "0.0",
                  "0.0",
                  "0.0",
                  "1.0",
                  "0.0",
                  "0.0",
                  "0.0",
                  "0.0",
                  "0.0",
                  "0.0",
                  "0.0",
                  "1.0",
                  "0.0",
                  "0.0",
                  "0.0",
                  "0.0",
                  "0.0",
                  "0.0",
                  "1.0",
                  "2"
                ]
              ],
              "shape": {
                "columns": 94,
                "rows": 5
              }
            },
            "text/html": [
              "<div>\n",
              "<style scoped>\n",
              "    .dataframe tbody tr th:only-of-type {\n",
              "        vertical-align: middle;\n",
              "    }\n",
              "\n",
              "    .dataframe tbody tr th {\n",
              "        vertical-align: top;\n",
              "    }\n",
              "\n",
              "    .dataframe thead th {\n",
              "        text-align: right;\n",
              "    }\n",
              "</style>\n",
              "<table border=\"1\" class=\"dataframe\">\n",
              "  <thead>\n",
              "    <tr style=\"text-align: right;\">\n",
              "      <th></th>\n",
              "      <th>Application order</th>\n",
              "      <th>Daytime/evening attendance</th>\n",
              "      <th>Previous qualification (grade)</th>\n",
              "      <th>Admission grade</th>\n",
              "      <th>Displaced</th>\n",
              "      <th>Debtor</th>\n",
              "      <th>Tuition fees up to date</th>\n",
              "      <th>Gender</th>\n",
              "      <th>Scholarship holder</th>\n",
              "      <th>Age at enrollment</th>\n",
              "      <th>...</th>\n",
              "      <th>Mother's qualification: Basic education 3rd cycle</th>\n",
              "      <th>Mother's qualification: Basic education 1st cycle</th>\n",
              "      <th>Mother's qualification: Basic Education 2nd Cycle</th>\n",
              "      <th>Father's qualification: Others</th>\n",
              "      <th>Father's qualification: Secondary education</th>\n",
              "      <th>Father's qualification: Higher education</th>\n",
              "      <th>Father's qualification: Basic education 3rd cycle</th>\n",
              "      <th>Father's qualification: Basic education 1st cycle</th>\n",
              "      <th>Father's qualification: Basic Education 2nd Cycle</th>\n",
              "      <th>Target</th>\n",
              "    </tr>\n",
              "  </thead>\n",
              "  <tbody>\n",
              "    <tr>\n",
              "      <th>0</th>\n",
              "      <td>5</td>\n",
              "      <td>1</td>\n",
              "      <td>122.0</td>\n",
              "      <td>127.3</td>\n",
              "      <td>1</td>\n",
              "      <td>0</td>\n",
              "      <td>1</td>\n",
              "      <td>1</td>\n",
              "      <td>0</td>\n",
              "      <td>20</td>\n",
              "      <td>...</td>\n",
              "      <td>1.0</td>\n",
              "      <td>0.0</td>\n",
              "      <td>0.0</td>\n",
              "      <td>1.0</td>\n",
              "      <td>0.0</td>\n",
              "      <td>0.0</td>\n",
              "      <td>0.0</td>\n",
              "      <td>0.0</td>\n",
              "      <td>0.0</td>\n",
              "      <td>0</td>\n",
              "    </tr>\n",
              "    <tr>\n",
              "      <th>1</th>\n",
              "      <td>1</td>\n",
              "      <td>1</td>\n",
              "      <td>160.0</td>\n",
              "      <td>142.5</td>\n",
              "      <td>1</td>\n",
              "      <td>0</td>\n",
              "      <td>0</td>\n",
              "      <td>1</td>\n",
              "      <td>0</td>\n",
              "      <td>19</td>\n",
              "      <td>...</td>\n",
              "      <td>0.0</td>\n",
              "      <td>0.0</td>\n",
              "      <td>0.0</td>\n",
              "      <td>0.0</td>\n",
              "      <td>0.0</td>\n",
              "      <td>1.0</td>\n",
              "      <td>0.0</td>\n",
              "      <td>0.0</td>\n",
              "      <td>0.0</td>\n",
              "      <td>2</td>\n",
              "    </tr>\n",
              "    <tr>\n",
              "      <th>2</th>\n",
              "      <td>5</td>\n",
              "      <td>1</td>\n",
              "      <td>122.0</td>\n",
              "      <td>124.8</td>\n",
              "      <td>1</td>\n",
              "      <td>0</td>\n",
              "      <td>0</td>\n",
              "      <td>1</td>\n",
              "      <td>0</td>\n",
              "      <td>19</td>\n",
              "      <td>...</td>\n",
              "      <td>0.0</td>\n",
              "      <td>1.0</td>\n",
              "      <td>0.0</td>\n",
              "      <td>0.0</td>\n",
              "      <td>0.0</td>\n",
              "      <td>0.0</td>\n",
              "      <td>0.0</td>\n",
              "      <td>1.0</td>\n",
              "      <td>0.0</td>\n",
              "      <td>0</td>\n",
              "    </tr>\n",
              "    <tr>\n",
              "      <th>3</th>\n",
              "      <td>2</td>\n",
              "      <td>1</td>\n",
              "      <td>122.0</td>\n",
              "      <td>119.6</td>\n",
              "      <td>1</td>\n",
              "      <td>0</td>\n",
              "      <td>1</td>\n",
              "      <td>0</td>\n",
              "      <td>0</td>\n",
              "      <td>20</td>\n",
              "      <td>...</td>\n",
              "      <td>0.0</td>\n",
              "      <td>0.0</td>\n",
              "      <td>1.0</td>\n",
              "      <td>0.0</td>\n",
              "      <td>0.0</td>\n",
              "      <td>0.0</td>\n",
              "      <td>0.0</td>\n",
              "      <td>1.0</td>\n",
              "      <td>0.0</td>\n",
              "      <td>2</td>\n",
              "    </tr>\n",
              "    <tr>\n",
              "      <th>4</th>\n",
              "      <td>1</td>\n",
              "      <td>0</td>\n",
              "      <td>100.0</td>\n",
              "      <td>141.5</td>\n",
              "      <td>0</td>\n",
              "      <td>0</td>\n",
              "      <td>1</td>\n",
              "      <td>0</td>\n",
              "      <td>0</td>\n",
              "      <td>45</td>\n",
              "      <td>...</td>\n",
              "      <td>0.0</td>\n",
              "      <td>1.0</td>\n",
              "      <td>0.0</td>\n",
              "      <td>0.0</td>\n",
              "      <td>0.0</td>\n",
              "      <td>0.0</td>\n",
              "      <td>0.0</td>\n",
              "      <td>0.0</td>\n",
              "      <td>1.0</td>\n",
              "      <td>2</td>\n",
              "    </tr>\n",
              "  </tbody>\n",
              "</table>\n",
              "<p>5 rows × 94 columns</p>\n",
              "</div>"
            ],
            "text/plain": [
              "   Application order  Daytime/evening attendance  \\\n",
              "0                  5                           1   \n",
              "1                  1                           1   \n",
              "2                  5                           1   \n",
              "3                  2                           1   \n",
              "4                  1                           0   \n",
              "\n",
              "   Previous qualification (grade)  Admission grade  Displaced  Debtor  \\\n",
              "0                           122.0            127.3          1       0   \n",
              "1                           160.0            142.5          1       0   \n",
              "2                           122.0            124.8          1       0   \n",
              "3                           122.0            119.6          1       0   \n",
              "4                           100.0            141.5          0       0   \n",
              "\n",
              "   Tuition fees up to date  Gender  Scholarship holder  Age at enrollment  \\\n",
              "0                        1       1                   0                 20   \n",
              "1                        0       1                   0                 19   \n",
              "2                        0       1                   0                 19   \n",
              "3                        1       0                   0                 20   \n",
              "4                        1       0                   0                 45   \n",
              "\n",
              "   ...  Mother's qualification: Basic education 3rd cycle  \\\n",
              "0  ...                                                1.0   \n",
              "1  ...                                                0.0   \n",
              "2  ...                                                0.0   \n",
              "3  ...                                                0.0   \n",
              "4  ...                                                0.0   \n",
              "\n",
              "   Mother's qualification: Basic education 1st cycle   \\\n",
              "0                                                0.0    \n",
              "1                                                0.0    \n",
              "2                                                1.0    \n",
              "3                                                0.0    \n",
              "4                                                1.0    \n",
              "\n",
              "   Mother's qualification: Basic Education 2nd Cycle  \\\n",
              "0                                                0.0   \n",
              "1                                                0.0   \n",
              "2                                                0.0   \n",
              "3                                                1.0   \n",
              "4                                                0.0   \n",
              "\n",
              "   Father's qualification: Others  \\\n",
              "0                             1.0   \n",
              "1                             0.0   \n",
              "2                             0.0   \n",
              "3                             0.0   \n",
              "4                             0.0   \n",
              "\n",
              "   Father's qualification: Secondary education  \\\n",
              "0                                          0.0   \n",
              "1                                          0.0   \n",
              "2                                          0.0   \n",
              "3                                          0.0   \n",
              "4                                          0.0   \n",
              "\n",
              "   Father's qualification: Higher education  \\\n",
              "0                                       0.0   \n",
              "1                                       1.0   \n",
              "2                                       0.0   \n",
              "3                                       0.0   \n",
              "4                                       0.0   \n",
              "\n",
              "   Father's qualification: Basic education 3rd cycle  \\\n",
              "0                                                0.0   \n",
              "1                                                0.0   \n",
              "2                                                0.0   \n",
              "3                                                0.0   \n",
              "4                                                0.0   \n",
              "\n",
              "   Father's qualification: Basic education 1st cycle   \\\n",
              "0                                                0.0    \n",
              "1                                                0.0    \n",
              "2                                                1.0    \n",
              "3                                                1.0    \n",
              "4                                                0.0    \n",
              "\n",
              "   Father's qualification: Basic Education 2nd Cycle  Target  \n",
              "0                                                0.0       0  \n",
              "1                                                0.0       2  \n",
              "2                                                0.0       0  \n",
              "3                                                0.0       2  \n",
              "4                                                1.0       2  \n",
              "\n",
              "[5 rows x 94 columns]"
            ]
          },
          "execution_count": 2,
          "metadata": {},
          "output_type": "execute_result"
        }
      ],
      "source": [
        "# Importar librerías necesarias\n",
        "import pandas as pd\n",
        "import numpy as np\n",
        "from sklearn.model_selection import train_test_split\n",
        "from sklearn.preprocessing import OneHotEncoder\n",
        "from tensorflow.keras.models import Sequential\n",
        "from tensorflow.keras.layers import Dense\n",
        "from tensorflow.keras.optimizers import Adam\n",
        "import matplotlib.pyplot as plt\n",
        "\n",
        "# Cargar los datos\n",
        "df = pd.read_csv('data_resampled.csv')\n",
        "\n",
        "# Verificar las dimensiones del dataset\n",
        "print('Forma del dataset:', df.shape)\n",
        "\n",
        "# Visualizar primeras filas del dataset\n",
        "df.head()\n"
      ]
    },
    {
      "cell_type": "markdown",
      "id": "6824e9f8",
      "metadata": {
        "id": "6824e9f8"
      },
      "source": [
        "## Separación de Inputs (X) y Target (Y)\n",
        "Separamos las variables independientes (X) del objetivo (Y). Aplicamos codificación one-hot al target porque es una clasificación multiclase."
      ]
    },
    {
      "cell_type": "code",
      "execution_count": 3,
      "id": "43a24097",
      "metadata": {
        "colab": {
          "base_uri": "https://localhost:8080/"
        },
        "id": "43a24097",
        "outputId": "cb960df4-7e56-4ae1-8e0b-dfc73f0ec3a8"
      },
      "outputs": [
        {
          "name": "stdout",
          "output_type": "stream",
          "text": [
            "Forma X: (6700, 93)\n",
            "Forma Y (codificado): (6700, 3)\n"
          ]
        }
      ],
      "source": [
        "# Variables independientes (X) y variable dependiente (Y)\n",
        "X = df.drop(columns=['Target']).values\n",
        "Y = df['Target'].values.reshape(-1, 1)\n",
        "\n",
        "# Codificación one-hot del target\n",
        "encoder = OneHotEncoder(sparse_output=False)\n",
        "Y_encoded = encoder.fit_transform(Y)\n",
        "\n",
        "# Mostrar la forma de los arrays\n",
        "print('Forma X:', X.shape)\n",
        "print('Forma Y (codificado):', Y_encoded.shape)\n"
      ]
    },
    {
      "cell_type": "markdown",
      "id": "ecb83815",
      "metadata": {
        "id": "ecb83815"
      },
      "source": [
        "## División de los Datos en Conjunto de Entrenamiento y Prueba\n",
        "Dividimos el dataset en dos partes: entrenamiento (80%) y prueba (20%), manteniendo la proporción de clases (stratify)."
      ]
    },
    {
      "cell_type": "code",
      "execution_count": 4,
      "id": "c79c8219",
      "metadata": {
        "colab": {
          "base_uri": "https://localhost:8080/"
        },
        "id": "c79c8219",
        "outputId": "ffc7f106-bdaf-4e10-bc5b-52bcb97b210a"
      },
      "outputs": [
        {
          "name": "stdout",
          "output_type": "stream",
          "text": [
            "Conjunto de entrenamiento: (5360, 93) (5360, 3)\n",
            "Conjunto de prueba: (1340, 93) (1340, 3)\n"
          ]
        }
      ],
      "source": [
        "# División del dataset en entrenamiento y prueba\n",
        "X_train, X_test, Y_train, Y_test = train_test_split(\n",
        "    X, Y_encoded,\n",
        "    test_size=0.2,\n",
        "    stratify=Y,\n",
        "    random_state=42\n",
        ")\n",
        "\n",
        "# Verificar dimensiones\n",
        "print('Conjunto de entrenamiento:', X_train.shape, Y_train.shape)\n",
        "print('Conjunto de prueba:', X_test.shape, Y_test.shape)\n"
      ]
    },
    {
      "cell_type": "markdown",
      "id": "331a0d3c",
      "metadata": {
        "id": "331a0d3c"
      },
      "source": [
        "## Definición y Construcción del Modelo de Red Neuronal\n",
        "Creamos una red neuronal según la arquitectura especificada en el roadmap:\n",
        "\n",
        "* Tres capas ocultas de 128 neuronas (ReLU).\n",
        "\n",
        "* Inicialización: He normal.\n",
        "\n",
        "* Capa de salida: 3 neuronas (una por clase) con softmax."
      ]
    },
    {
      "cell_type": "code",
      "execution_count": 15,
      "id": "cf175d4f",
      "metadata": {
        "colab": {
          "base_uri": "https://localhost:8080/",
          "height": 312
        },
        "id": "cf175d4f",
        "outputId": "0e9565d1-37bd-4171-d124-550c1693cd48"
      },
      "outputs": [
        {
          "data": {
            "text/html": [
              "<pre style=\"white-space:pre;overflow-x:auto;line-height:normal;font-family:Menlo,'DejaVu Sans Mono',consolas,'Courier New',monospace\"><span style=\"font-weight: bold\">Model: \"sequential_2\"</span>\n",
              "</pre>\n"
            ],
            "text/plain": [
              "\u001b[1mModel: \"sequential_2\"\u001b[0m\n"
            ]
          },
          "metadata": {},
          "output_type": "display_data"
        },
        {
          "data": {
            "text/html": [
              "<pre style=\"white-space:pre;overflow-x:auto;line-height:normal;font-family:Menlo,'DejaVu Sans Mono',consolas,'Courier New',monospace\">┏━━━━━━━━━━━━━━━━━━━━━━━━━━━━━━━━━┳━━━━━━━━━━━━━━━━━━━━━━━━┳━━━━━━━━━━━━━━━┓\n",
              "┃<span style=\"font-weight: bold\"> Layer (type)                    </span>┃<span style=\"font-weight: bold\"> Output Shape           </span>┃<span style=\"font-weight: bold\">       Param # </span>┃\n",
              "┡━━━━━━━━━━━━━━━━━━━━━━━━━━━━━━━━━╇━━━━━━━━━━━━━━━━━━━━━━━━╇━━━━━━━━━━━━━━━┩\n",
              "│ dense_8 (<span style=\"color: #0087ff; text-decoration-color: #0087ff\">Dense</span>)                 │ (<span style=\"color: #00d7ff; text-decoration-color: #00d7ff\">None</span>, <span style=\"color: #00af00; text-decoration-color: #00af00\">128</span>)            │        <span style=\"color: #00af00; text-decoration-color: #00af00\">12,032</span> │\n",
              "├─────────────────────────────────┼────────────────────────┼───────────────┤\n",
              "│ dense_9 (<span style=\"color: #0087ff; text-decoration-color: #0087ff\">Dense</span>)                 │ (<span style=\"color: #00d7ff; text-decoration-color: #00d7ff\">None</span>, <span style=\"color: #00af00; text-decoration-color: #00af00\">128</span>)            │        <span style=\"color: #00af00; text-decoration-color: #00af00\">16,512</span> │\n",
              "├─────────────────────────────────┼────────────────────────┼───────────────┤\n",
              "│ dense_10 (<span style=\"color: #0087ff; text-decoration-color: #0087ff\">Dense</span>)                │ (<span style=\"color: #00d7ff; text-decoration-color: #00d7ff\">None</span>, <span style=\"color: #00af00; text-decoration-color: #00af00\">128</span>)            │        <span style=\"color: #00af00; text-decoration-color: #00af00\">16,512</span> │\n",
              "├─────────────────────────────────┼────────────────────────┼───────────────┤\n",
              "│ dense_11 (<span style=\"color: #0087ff; text-decoration-color: #0087ff\">Dense</span>)                │ (<span style=\"color: #00d7ff; text-decoration-color: #00d7ff\">None</span>, <span style=\"color: #00af00; text-decoration-color: #00af00\">3</span>)              │           <span style=\"color: #00af00; text-decoration-color: #00af00\">387</span> │\n",
              "└─────────────────────────────────┴────────────────────────┴───────────────┘\n",
              "</pre>\n"
            ],
            "text/plain": [
              "┏━━━━━━━━━━━━━━━━━━━━━━━━━━━━━━━━━┳━━━━━━━━━━━━━━━━━━━━━━━━┳━━━━━━━━━━━━━━━┓\n",
              "┃\u001b[1m \u001b[0m\u001b[1mLayer (type)                   \u001b[0m\u001b[1m \u001b[0m┃\u001b[1m \u001b[0m\u001b[1mOutput Shape          \u001b[0m\u001b[1m \u001b[0m┃\u001b[1m \u001b[0m\u001b[1m      Param #\u001b[0m\u001b[1m \u001b[0m┃\n",
              "┡━━━━━━━━━━━━━━━━━━━━━━━━━━━━━━━━━╇━━━━━━━━━━━━━━━━━━━━━━━━╇━━━━━━━━━━━━━━━┩\n",
              "│ dense_8 (\u001b[38;5;33mDense\u001b[0m)                 │ (\u001b[38;5;45mNone\u001b[0m, \u001b[38;5;34m128\u001b[0m)            │        \u001b[38;5;34m12,032\u001b[0m │\n",
              "├─────────────────────────────────┼────────────────────────┼───────────────┤\n",
              "│ dense_9 (\u001b[38;5;33mDense\u001b[0m)                 │ (\u001b[38;5;45mNone\u001b[0m, \u001b[38;5;34m128\u001b[0m)            │        \u001b[38;5;34m16,512\u001b[0m │\n",
              "├─────────────────────────────────┼────────────────────────┼───────────────┤\n",
              "│ dense_10 (\u001b[38;5;33mDense\u001b[0m)                │ (\u001b[38;5;45mNone\u001b[0m, \u001b[38;5;34m128\u001b[0m)            │        \u001b[38;5;34m16,512\u001b[0m │\n",
              "├─────────────────────────────────┼────────────────────────┼───────────────┤\n",
              "│ dense_11 (\u001b[38;5;33mDense\u001b[0m)                │ (\u001b[38;5;45mNone\u001b[0m, \u001b[38;5;34m3\u001b[0m)              │           \u001b[38;5;34m387\u001b[0m │\n",
              "└─────────────────────────────────┴────────────────────────┴───────────────┘\n"
            ]
          },
          "metadata": {},
          "output_type": "display_data"
        },
        {
          "data": {
            "text/html": [
              "<pre style=\"white-space:pre;overflow-x:auto;line-height:normal;font-family:Menlo,'DejaVu Sans Mono',consolas,'Courier New',monospace\"><span style=\"font-weight: bold\"> Total params: </span><span style=\"color: #00af00; text-decoration-color: #00af00\">45,443</span> (177.51 KB)\n",
              "</pre>\n"
            ],
            "text/plain": [
              "\u001b[1m Total params: \u001b[0m\u001b[38;5;34m45,443\u001b[0m (177.51 KB)\n"
            ]
          },
          "metadata": {},
          "output_type": "display_data"
        },
        {
          "data": {
            "text/html": [
              "<pre style=\"white-space:pre;overflow-x:auto;line-height:normal;font-family:Menlo,'DejaVu Sans Mono',consolas,'Courier New',monospace\"><span style=\"font-weight: bold\"> Trainable params: </span><span style=\"color: #00af00; text-decoration-color: #00af00\">45,443</span> (177.51 KB)\n",
              "</pre>\n"
            ],
            "text/plain": [
              "\u001b[1m Trainable params: \u001b[0m\u001b[38;5;34m45,443\u001b[0m (177.51 KB)\n"
            ]
          },
          "metadata": {},
          "output_type": "display_data"
        },
        {
          "data": {
            "text/html": [
              "<pre style=\"white-space:pre;overflow-x:auto;line-height:normal;font-family:Menlo,'DejaVu Sans Mono',consolas,'Courier New',monospace\"><span style=\"font-weight: bold\"> Non-trainable params: </span><span style=\"color: #00af00; text-decoration-color: #00af00\">0</span> (0.00 B)\n",
              "</pre>\n"
            ],
            "text/plain": [
              "\u001b[1m Non-trainable params: \u001b[0m\u001b[38;5;34m0\u001b[0m (0.00 B)\n"
            ]
          },
          "metadata": {},
          "output_type": "display_data"
        }
      ],
      "source": [
        "# Construcción del modelo\n",
        "model = Sequential([\n",
        "    Dense(128, activation='relu', input_shape=(X.shape[1],), kernel_initializer='he_normal'),\n",
        "    Dense(128, activation='relu', kernel_initializer='he_normal'),\n",
        "    Dense(128, activation='relu', kernel_initializer='he_normal'),\n",
        "    Dense(3, activation='softmax')\n",
        "])\n",
        "\n",
        "# Compilación del modelo\n",
        "model.compile(\n",
        "    optimizer=Adam(learning_rate=0.000001),\n",
        "    loss='categorical_crossentropy',\n",
        "    metrics=['accuracy']\n",
        ")\n",
        "\n",
        "# Mostrar resumen del modelo\n",
        "model.summary()\n"
      ]
    },
    {
      "cell_type": "markdown",
      "id": "1c290675",
      "metadata": {
        "id": "1c290675"
      },
      "source": [
        "## Entrenamiento del Modelo\n",
        "Entrenamos la red neuronal durante 50 épocas, usando un batch size de 32, validando con el conjunto de prueba para evaluar su desempeño durante el proceso."
      ]
    },
    {
      "cell_type": "code",
      "execution_count": 16,
      "id": "4a745472",
      "metadata": {
        "colab": {
          "base_uri": "https://localhost:8080/"
        },
        "id": "4a745472",
        "outputId": "d37f7df6-c11e-4f10-85fd-a1298c7f6306"
      },
      "outputs": [
        {
          "name": "stdout",
          "output_type": "stream",
          "text": [
            "Epoch 1/50\n",
            "\u001b[1m1072/1072\u001b[0m \u001b[32m━━━━━━━━━━━━━━━━━━━━\u001b[0m\u001b[37m\u001b[0m \u001b[1m6s\u001b[0m 4ms/step - accuracy: 0.2739 - loss: 4.7900 - val_accuracy: 0.2754 - val_loss: 2.0590\n",
            "Epoch 2/50\n",
            "\u001b[1m1072/1072\u001b[0m \u001b[32m━━━━━━━━━━━━━━━━━━━━\u001b[0m\u001b[37m\u001b[0m \u001b[1m4s\u001b[0m 3ms/step - accuracy: 0.2797 - loss: 1.9510 - val_accuracy: 0.3007 - val_loss: 1.7525\n",
            "Epoch 3/50\n",
            "\u001b[1m1072/1072\u001b[0m \u001b[32m━━━━━━━━━━━━━━━━━━━━\u001b[0m\u001b[37m\u001b[0m \u001b[1m4s\u001b[0m 3ms/step - accuracy: 0.3370 - loss: 1.6558 - val_accuracy: 0.3619 - val_loss: 1.5261\n",
            "Epoch 4/50\n",
            "\u001b[1m1072/1072\u001b[0m \u001b[32m━━━━━━━━━━━━━━━━━━━━\u001b[0m\u001b[37m\u001b[0m \u001b[1m3s\u001b[0m 3ms/step - accuracy: 0.3926 - loss: 1.4667 - val_accuracy: 0.4134 - val_loss: 1.3608\n",
            "Epoch 5/50\n",
            "\u001b[1m1072/1072\u001b[0m \u001b[32m━━━━━━━━━━━━━━━━━━━━\u001b[0m\u001b[37m\u001b[0m \u001b[1m4s\u001b[0m 3ms/step - accuracy: 0.4292 - loss: 1.2879 - val_accuracy: 0.4470 - val_loss: 1.2456\n",
            "Epoch 6/50\n",
            "\u001b[1m1072/1072\u001b[0m \u001b[32m━━━━━━━━━━━━━━━━━━━━\u001b[0m\u001b[37m\u001b[0m \u001b[1m4s\u001b[0m 3ms/step - accuracy: 0.4774 - loss: 1.1800 - val_accuracy: 0.4873 - val_loss: 1.1590\n",
            "Epoch 7/50\n",
            "\u001b[1m1072/1072\u001b[0m \u001b[32m━━━━━━━━━━━━━━━━━━━━\u001b[0m\u001b[37m\u001b[0m \u001b[1m4s\u001b[0m 3ms/step - accuracy: 0.5031 - loss: 1.1155 - val_accuracy: 0.5172 - val_loss: 1.1068\n",
            "Epoch 8/50\n",
            "\u001b[1m1072/1072\u001b[0m \u001b[32m━━━━━━━━━━━━━━━━━━━━\u001b[0m\u001b[37m\u001b[0m \u001b[1m4s\u001b[0m 3ms/step - accuracy: 0.5293 - loss: 1.0780 - val_accuracy: 0.5321 - val_loss: 1.0709\n",
            "Epoch 9/50\n",
            "\u001b[1m1072/1072\u001b[0m \u001b[32m━━━━━━━━━━━━━━━━━━━━\u001b[0m\u001b[37m\u001b[0m \u001b[1m4s\u001b[0m 3ms/step - accuracy: 0.5381 - loss: 1.0477 - val_accuracy: 0.5396 - val_loss: 1.0550\n",
            "Epoch 10/50\n",
            "\u001b[1m1072/1072\u001b[0m \u001b[32m━━━━━━━━━━━━━━━━━━━━\u001b[0m\u001b[37m\u001b[0m \u001b[1m4s\u001b[0m 4ms/step - accuracy: 0.5495 - loss: 1.0088 - val_accuracy: 0.5470 - val_loss: 1.0320\n",
            "Epoch 11/50\n",
            "\u001b[1m1072/1072\u001b[0m \u001b[32m━━━━━━━━━━━━━━━━━━━━\u001b[0m\u001b[37m\u001b[0m \u001b[1m4s\u001b[0m 3ms/step - accuracy: 0.5652 - loss: 0.9673 - val_accuracy: 0.5463 - val_loss: 1.0215\n",
            "Epoch 12/50\n",
            "\u001b[1m1072/1072\u001b[0m \u001b[32m━━━━━━━━━━━━━━━━━━━━\u001b[0m\u001b[37m\u001b[0m \u001b[1m4s\u001b[0m 3ms/step - accuracy: 0.5666 - loss: 0.9852 - val_accuracy: 0.5567 - val_loss: 1.0091\n",
            "Epoch 13/50\n",
            "\u001b[1m1072/1072\u001b[0m \u001b[32m━━━━━━━━━━━━━━━━━━━━\u001b[0m\u001b[37m\u001b[0m \u001b[1m4s\u001b[0m 3ms/step - accuracy: 0.5664 - loss: 0.9617 - val_accuracy: 0.5552 - val_loss: 1.0007\n",
            "Epoch 14/50\n",
            "\u001b[1m1072/1072\u001b[0m \u001b[32m━━━━━━━━━━━━━━━━━━━━\u001b[0m\u001b[37m\u001b[0m \u001b[1m4s\u001b[0m 3ms/step - accuracy: 0.5769 - loss: 0.9452 - val_accuracy: 0.5627 - val_loss: 0.9921\n",
            "Epoch 15/50\n",
            "\u001b[1m1072/1072\u001b[0m \u001b[32m━━━━━━━━━━━━━━━━━━━━\u001b[0m\u001b[37m\u001b[0m \u001b[1m4s\u001b[0m 3ms/step - accuracy: 0.5626 - loss: 0.9736 - val_accuracy: 0.5709 - val_loss: 0.9894\n",
            "Epoch 16/50\n",
            "\u001b[1m1072/1072\u001b[0m \u001b[32m━━━━━━━━━━━━━━━━━━━━\u001b[0m\u001b[37m\u001b[0m \u001b[1m4s\u001b[0m 3ms/step - accuracy: 0.5949 - loss: 0.9367 - val_accuracy: 0.5746 - val_loss: 0.9757\n",
            "Epoch 17/50\n",
            "\u001b[1m1072/1072\u001b[0m \u001b[32m━━━━━━━━━━━━━━━━━━━━\u001b[0m\u001b[37m\u001b[0m \u001b[1m4s\u001b[0m 3ms/step - accuracy: 0.5647 - loss: 0.9667 - val_accuracy: 0.5784 - val_loss: 0.9691\n",
            "Epoch 18/50\n",
            "\u001b[1m1072/1072\u001b[0m \u001b[32m━━━━━━━━━━━━━━━━━━━━\u001b[0m\u001b[37m\u001b[0m \u001b[1m4s\u001b[0m 3ms/step - accuracy: 0.5803 - loss: 0.9564 - val_accuracy: 0.5754 - val_loss: 0.9633\n",
            "Epoch 19/50\n",
            "\u001b[1m1072/1072\u001b[0m \u001b[32m━━━━━━━━━━━━━━━━━━━━\u001b[0m\u001b[37m\u001b[0m \u001b[1m4s\u001b[0m 3ms/step - accuracy: 0.5793 - loss: 0.9377 - val_accuracy: 0.5843 - val_loss: 0.9579\n",
            "Epoch 20/50\n",
            "\u001b[1m1072/1072\u001b[0m \u001b[32m━━━━━━━━━━━━━━━━━━━━\u001b[0m\u001b[37m\u001b[0m \u001b[1m4s\u001b[0m 3ms/step - accuracy: 0.5812 - loss: 0.9329 - val_accuracy: 0.5858 - val_loss: 0.9503\n",
            "Epoch 21/50\n",
            "\u001b[1m1072/1072\u001b[0m \u001b[32m━━━━━━━━━━━━━━━━━━━━\u001b[0m\u001b[37m\u001b[0m \u001b[1m4s\u001b[0m 3ms/step - accuracy: 0.6007 - loss: 0.9186 - val_accuracy: 0.5836 - val_loss: 0.9479\n",
            "Epoch 22/50\n",
            "\u001b[1m1072/1072\u001b[0m \u001b[32m━━━━━━━━━━━━━━━━━━━━\u001b[0m\u001b[37m\u001b[0m \u001b[1m4s\u001b[0m 3ms/step - accuracy: 0.5807 - loss: 0.9364 - val_accuracy: 0.5925 - val_loss: 0.9375\n",
            "Epoch 23/50\n",
            "\u001b[1m1072/1072\u001b[0m \u001b[32m━━━━━━━━━━━━━━━━━━━━\u001b[0m\u001b[37m\u001b[0m \u001b[1m3s\u001b[0m 3ms/step - accuracy: 0.6044 - loss: 0.9041 - val_accuracy: 0.5985 - val_loss: 0.9329\n",
            "Epoch 24/50\n",
            "\u001b[1m1072/1072\u001b[0m \u001b[32m━━━━━━━━━━━━━━━━━━━━\u001b[0m\u001b[37m\u001b[0m \u001b[1m4s\u001b[0m 3ms/step - accuracy: 0.6003 - loss: 0.9008 - val_accuracy: 0.5903 - val_loss: 0.9273\n",
            "Epoch 25/50\n",
            "\u001b[1m1072/1072\u001b[0m \u001b[32m━━━━━━━━━━━━━━━━━━━━\u001b[0m\u001b[37m\u001b[0m \u001b[1m4s\u001b[0m 3ms/step - accuracy: 0.6028 - loss: 0.8985 - val_accuracy: 0.5963 - val_loss: 0.9227\n",
            "Epoch 26/50\n",
            "\u001b[1m1072/1072\u001b[0m \u001b[32m━━━━━━━━━━━━━━━━━━━━\u001b[0m\u001b[37m\u001b[0m \u001b[1m4s\u001b[0m 3ms/step - accuracy: 0.6126 - loss: 0.8902 - val_accuracy: 0.5940 - val_loss: 0.9202\n",
            "Epoch 27/50\n",
            "\u001b[1m1072/1072\u001b[0m \u001b[32m━━━━━━━━━━━━━━━━━━━━\u001b[0m\u001b[37m\u001b[0m \u001b[1m4s\u001b[0m 3ms/step - accuracy: 0.6018 - loss: 0.8977 - val_accuracy: 0.5985 - val_loss: 0.9198\n",
            "Epoch 28/50\n",
            "\u001b[1m1072/1072\u001b[0m \u001b[32m━━━━━━━━━━━━━━━━━━━━\u001b[0m\u001b[37m\u001b[0m \u001b[1m4s\u001b[0m 3ms/step - accuracy: 0.6055 - loss: 0.8747 - val_accuracy: 0.6052 - val_loss: 0.9116\n",
            "Epoch 29/50\n",
            "\u001b[1m1072/1072\u001b[0m \u001b[32m━━━━━━━━━━━━━━━━━━━━\u001b[0m\u001b[37m\u001b[0m \u001b[1m4s\u001b[0m 3ms/step - accuracy: 0.6044 - loss: 0.8947 - val_accuracy: 0.6022 - val_loss: 0.9036\n",
            "Epoch 30/50\n",
            "\u001b[1m1072/1072\u001b[0m \u001b[32m━━━━━━━━━━━━━━━━━━━━\u001b[0m\u001b[37m\u001b[0m \u001b[1m4s\u001b[0m 3ms/step - accuracy: 0.6064 - loss: 0.8910 - val_accuracy: 0.6022 - val_loss: 0.8983\n",
            "Epoch 31/50\n",
            "\u001b[1m1072/1072\u001b[0m \u001b[32m━━━━━━━━━━━━━━━━━━━━\u001b[0m\u001b[37m\u001b[0m \u001b[1m4s\u001b[0m 3ms/step - accuracy: 0.6236 - loss: 0.8554 - val_accuracy: 0.6045 - val_loss: 0.8932\n",
            "Epoch 32/50\n",
            "\u001b[1m1072/1072\u001b[0m \u001b[32m━━━━━━━━━━━━━━━━━━━━\u001b[0m\u001b[37m\u001b[0m \u001b[1m4s\u001b[0m 3ms/step - accuracy: 0.6259 - loss: 0.8483 - val_accuracy: 0.6060 - val_loss: 0.8901\n",
            "Epoch 33/50\n",
            "\u001b[1m1072/1072\u001b[0m \u001b[32m━━━━━━━━━━━━━━━━━━━━\u001b[0m\u001b[37m\u001b[0m \u001b[1m4s\u001b[0m 3ms/step - accuracy: 0.6345 - loss: 0.8376 - val_accuracy: 0.6022 - val_loss: 0.8855\n",
            "Epoch 34/50\n",
            "\u001b[1m1072/1072\u001b[0m \u001b[32m━━━━━━━━━━━━━━━━━━━━\u001b[0m\u001b[37m\u001b[0m \u001b[1m4s\u001b[0m 3ms/step - accuracy: 0.6210 - loss: 0.8465 - val_accuracy: 0.6127 - val_loss: 0.8829\n",
            "Epoch 35/50\n",
            "\u001b[1m1072/1072\u001b[0m \u001b[32m━━━━━━━━━━━━━━━━━━━━\u001b[0m\u001b[37m\u001b[0m \u001b[1m4s\u001b[0m 3ms/step - accuracy: 0.6297 - loss: 0.8354 - val_accuracy: 0.6075 - val_loss: 0.8787\n",
            "Epoch 36/50\n",
            "\u001b[1m1072/1072\u001b[0m \u001b[32m━━━━━━━━━━━━━━━━━━━━\u001b[0m\u001b[37m\u001b[0m \u001b[1m4s\u001b[0m 3ms/step - accuracy: 0.6279 - loss: 0.8382 - val_accuracy: 0.6067 - val_loss: 0.8793\n",
            "Epoch 37/50\n",
            "\u001b[1m1072/1072\u001b[0m \u001b[32m━━━━━━━━━━━━━━━━━━━━\u001b[0m\u001b[37m\u001b[0m \u001b[1m4s\u001b[0m 3ms/step - accuracy: 0.6264 - loss: 0.8480 - val_accuracy: 0.6112 - val_loss: 0.8703\n",
            "Epoch 38/50\n",
            "\u001b[1m1072/1072\u001b[0m \u001b[32m━━━━━━━━━━━━━━━━━━━━\u001b[0m\u001b[37m\u001b[0m \u001b[1m4s\u001b[0m 3ms/step - accuracy: 0.6400 - loss: 0.8204 - val_accuracy: 0.6090 - val_loss: 0.8675\n",
            "Epoch 39/50\n",
            "\u001b[1m1072/1072\u001b[0m \u001b[32m━━━━━━━━━━━━━━━━━━━━\u001b[0m\u001b[37m\u001b[0m \u001b[1m4s\u001b[0m 3ms/step - accuracy: 0.6463 - loss: 0.8169 - val_accuracy: 0.6209 - val_loss: 0.8647\n",
            "Epoch 40/50\n",
            "\u001b[1m1072/1072\u001b[0m \u001b[32m━━━━━━━━━━━━━━━━━━━━\u001b[0m\u001b[37m\u001b[0m \u001b[1m4s\u001b[0m 3ms/step - accuracy: 0.6255 - loss: 0.8405 - val_accuracy: 0.6239 - val_loss: 0.8643\n",
            "Epoch 41/50\n",
            "\u001b[1m1072/1072\u001b[0m \u001b[32m━━━━━━━━━━━━━━━━━━━━\u001b[0m\u001b[37m\u001b[0m \u001b[1m4s\u001b[0m 3ms/step - accuracy: 0.6251 - loss: 0.8371 - val_accuracy: 0.6224 - val_loss: 0.8597\n",
            "Epoch 42/50\n",
            "\u001b[1m1072/1072\u001b[0m \u001b[32m━━━━━━━━━━━━━━━━━━━━\u001b[0m\u001b[37m\u001b[0m \u001b[1m4s\u001b[0m 3ms/step - accuracy: 0.6444 - loss: 0.8283 - val_accuracy: 0.6231 - val_loss: 0.8545\n",
            "Epoch 43/50\n",
            "\u001b[1m1072/1072\u001b[0m \u001b[32m━━━━━━━━━━━━━━━━━━━━\u001b[0m\u001b[37m\u001b[0m \u001b[1m4s\u001b[0m 3ms/step - accuracy: 0.6345 - loss: 0.8300 - val_accuracy: 0.6149 - val_loss: 0.8501\n",
            "Epoch 44/50\n",
            "\u001b[1m1072/1072\u001b[0m \u001b[32m━━━━━━━━━━━━━━━━━━━━\u001b[0m\u001b[37m\u001b[0m \u001b[1m3s\u001b[0m 3ms/step - accuracy: 0.6405 - loss: 0.8165 - val_accuracy: 0.6194 - val_loss: 0.8481\n",
            "Epoch 45/50\n",
            "\u001b[1m1072/1072\u001b[0m \u001b[32m━━━━━━━━━━━━━━━━━━━━\u001b[0m\u001b[37m\u001b[0m \u001b[1m4s\u001b[0m 3ms/step - accuracy: 0.6441 - loss: 0.8242 - val_accuracy: 0.6254 - val_loss: 0.8441\n",
            "Epoch 46/50\n",
            "\u001b[1m1072/1072\u001b[0m \u001b[32m━━━━━━━━━━━━━━━━━━━━\u001b[0m\u001b[37m\u001b[0m \u001b[1m4s\u001b[0m 3ms/step - accuracy: 0.6413 - loss: 0.8103 - val_accuracy: 0.6269 - val_loss: 0.8428\n",
            "Epoch 47/50\n",
            "\u001b[1m1072/1072\u001b[0m \u001b[32m━━━━━━━━━━━━━━━━━━━━\u001b[0m\u001b[37m\u001b[0m \u001b[1m4s\u001b[0m 3ms/step - accuracy: 0.6415 - loss: 0.8116 - val_accuracy: 0.6351 - val_loss: 0.8404\n",
            "Epoch 48/50\n",
            "\u001b[1m1072/1072\u001b[0m \u001b[32m━━━━━━━━━━━━━━━━━━━━\u001b[0m\u001b[37m\u001b[0m \u001b[1m4s\u001b[0m 3ms/step - accuracy: 0.6404 - loss: 0.8122 - val_accuracy: 0.6261 - val_loss: 0.8368\n",
            "Epoch 49/50\n",
            "\u001b[1m1072/1072\u001b[0m \u001b[32m━━━━━━━━━━━━━━━━━━━━\u001b[0m\u001b[37m\u001b[0m \u001b[1m4s\u001b[0m 3ms/step - accuracy: 0.6563 - loss: 0.7938 - val_accuracy: 0.6261 - val_loss: 0.8322\n",
            "Epoch 50/50\n",
            "\u001b[1m1072/1072\u001b[0m \u001b[32m━━━━━━━━━━━━━━━━━━━━\u001b[0m\u001b[37m\u001b[0m \u001b[1m4s\u001b[0m 3ms/step - accuracy: 0.6525 - loss: 0.7964 - val_accuracy: 0.6269 - val_loss: 0.8312\n"
          ]
        }
      ],
      "source": [
        "\n",
        "# Entrenamiento del modelo\n",
        "history = model.fit(\n",
        "    X_train, Y_train,\n",
        "    epochs=50,\n",
        "    batch_size=5,\n",
        "    validation_data=(X_test, Y_test)\n",
        ")"
      ]
    },
    {
      "cell_type": "markdown",
      "id": "d3877a9f",
      "metadata": {
        "id": "d3877a9f"
      },
      "source": [
        "## Evaluación y Visualización de Resultados\n",
        "Visualizamos gráficamente la evolución de la pérdida (loss) y precisión (accuracy) durante el entrenamiento para verificar posibles problemas como overfitting."
      ]
    },
    {
      "cell_type": "code",
      "execution_count": 17,
      "id": "21c72c99",
      "metadata": {
        "colab": {
          "base_uri": "https://localhost:8080/",
          "height": 409
        },
        "id": "21c72c99",
        "outputId": "2ba05561-3062-40fd-d952-ee56273815b4"
      },
      "outputs": [
        {
          "data": {
            "image/png": "[encoded data removed]",
            "text/plain": [
              "<Figure size 1400x500 with 2 Axes>"
            ]
          },
          "metadata": {},
          "output_type": "display_data"
        }
      ],
      "source": [
        "# Visualización de la pérdida y precisión\n",
        "plt.figure(figsize=(14, 5))\n",
        "\n",
        "# Pérdida (Loss)\n",
        "plt.subplot(1, 2, 1)\n",
        "plt.plot(history.history['loss'], label='Loss Entrenamiento', color='blue')\n",
        "plt.plot(history.history['val_loss'], label='Loss Validación', color='orange')\n",
        "plt.title('Pérdida durante el entrenamiento')\n",
        "plt.xlabel('Épocas')\n",
        "plt.ylabel('Pérdida')\n",
        "plt.legend()\n",
        "\n",
        "# Precisión (Accuracy)\n",
        "plt.subplot(1, 2, 2)\n",
        "plt.plot(history.history['accuracy'], label='Accuracy Entrenamiento', color='green')\n",
        "plt.plot(history.history['val_accuracy'], label='Accuracy Validación', color='red')\n",
        "plt.title('Precisión durante el entrenamiento')\n",
        "plt.xlabel('Épocas')\n",
        "plt.ylabel('Precisión')\n",
        "plt.legend()\n",
        "\n",
        "plt.tight_layout()\n",
        "plt.show()\n"
      ]
    },
    {
      "cell_type": "markdown",
      "id": "ccdcea50",
      "metadata": {
        "id": "ccdcea50"
      },
      "source": [
        "## Conclusiones y siguientes pasos\n",
        "Al finalizar el entrenamiento, revisamos gráficamente si el modelo ha aprendido correctamente o si requiere ajustes adicionales como:\n",
        "\n",
        "* Uso de técnicas contra sobreajuste (dropout, early stopping).\n",
        "\n",
        "* Ajuste del learning rate o diferentes inicializaciones.\n",
        "\n",
        "* Reducción o incremento de la arquitectura según resultados observados."
      ]
    }
  ],
  "metadata": {
    "colab": {
      "provenance": []
    },
    "kernelspec": {
      "display_name": "Python 3",
      "language": "python",
      "name": "python3"
    },
    "language_info": {
      "codemirror_mode": {
        "name": "ipython",
        "version": 3
      },
      "file_extension": ".py",
      "mimetype": "text/x-python",
      "name": "python",
      "nbconvert_exporter": "python",
      "pygments_lexer": "ipython3",
      "version": "3.10.7"
    }
  },
  "nbformat": 4,
  "nbformat_minor": 5
}
